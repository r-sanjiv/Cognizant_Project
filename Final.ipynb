{
  "nbformat": 4,
  "nbformat_minor": 0,
  "metadata": {
    "colab": {
      "provenance": [],
      "toc_visible": true,
      "gpuType": "T4",
      "authorship_tag": "ABX9TyPi74Kei+dN86sNPqPzwwCU",
      "include_colab_link": true
    },
    "kernelspec": {
      "name": "python3",
      "display_name": "Python 3"
    },
    "language_info": {
      "name": "python"
    },
    "accelerator": "GPU"
  },
  "cells": [
    {
      "cell_type": "markdown",
      "metadata": {
        "id": "view-in-github",
        "colab_type": "text"
      },
      "source": [
        "<a href=\"https://colab.research.google.com/github/r-sanjiv/Cognizant_Project/blob/main/Final.ipynb\" target=\"_parent\"><img src=\"https://colab.research.google.com/assets/colab-badge.svg\" alt=\"Open In Colab\"/></a>"
      ]
    },
    {
      "cell_type": "code",
      "source": [
        "import pandas as pd\n",
        "from sklearn.ensemble import RandomForestRegressor\n",
        "from sklearn.model_selection import train_test_split\n",
        "from sklearn.metrics import mean_absolute_error\n",
        "from sklearn.preprocessing import StandardScaler\n",
        "from sklearn.preprocessing import StandardScaler, OneHotEncoder"
      ],
      "metadata": {
        "id": "sJY79odxV3_s"
      },
      "execution_count": 1,
      "outputs": []
    },
    {
      "cell_type": "code",
      "source": [
        "# Encode categorical columns\n",
        "def encode_categorical(data):\n",
        "    categorical_columns = ['product_id', 'category', 'customer_type', 'payment_type']\n",
        "    encoder = OneHotEncoder()\n",
        "    X_categorical = data[categorical_columns]\n",
        "    X_categorical_encoded = encoder.fit_transform(X_categorical).toarray()\n",
        "    X_numeric = data.drop(columns=categorical_columns)\n",
        "    X_encoded = pd.concat([X_numeric, pd.DataFrame(X_categorical_encoded)], axis=1)\n",
        "    return X_encoded"
      ],
      "metadata": {
        "id": "YtdUBSPUWA5P"
      },
      "execution_count": 2,
      "outputs": []
    },
    {
      "cell_type": "code",
      "source": [
        "# Train algorithm with cross-validation\n",
        "def train_algorithm_with_cross_validation(X, y):\n",
        "    K = 5\n",
        "    SPLIT = 0.8\n",
        "    accuracy = []\n",
        "\n",
        "    for fold in range(0, K):\n",
        "        model = RandomForestRegressor()\n",
        "        scaler = StandardScaler()\n",
        "\n",
        "        X_train, X_test, y_train, y_test = train_test_split(X, y, train_size=SPLIT, random_state=42)\n",
        "\n",
        "        scaler.fit(X_train)\n",
        "        X_train = scaler.transform(X_train)\n",
        "        X_test = scaler.transform(X_test)\n",
        "\n",
        "        trained_model = model.fit(X_train, y_train)\n",
        "        y_pred = trained_model.predict(X_test)\n",
        "\n",
        "        mae = mean_absolute_error(y_true=y_test, y_pred=y_pred)\n",
        "        accuracy.append(mae)\n",
        "        print(f\"Fold {fold + 1}: MAE = {mae:.3f}\")\n",
        "\n",
        "    print(f\"Average MAE: {(sum(accuracy) / len(accuracy)):.2f}\")"
      ],
      "metadata": {
        "id": "h5f3ZkjHV-LZ"
      },
      "execution_count": 3,
      "outputs": []
    },
    {
      "cell_type": "code",
      "source": [
        "def main():\n",
        "  # Load Data\n",
        "  sales_df = pd.read_csv(\"https://raw.githubusercontent.com/r-sanjiv/Cognizant_Project/main/strategic%20plan/sales.csv\")\n",
        "  sales_df.drop(columns=[\"Unnamed: 0\"], inplace=True, errors='ignore')\n",
        "  stock_df = pd.read_csv(\"https://raw.githubusercontent.com/r-sanjiv/Cognizant_Project/main/strategic%20plan/sensor_stock_levels.csv\")\n",
        "  stock_df.drop(columns=[\"Unnamed: 0\"], inplace=True, errors='ignore')\n",
        "\n",
        "  # Merge data\n",
        "  data_df = pd.merge(sales_df, stock_df, on='product_id', how='inner')\n",
        "\n",
        "  # Encode categorical columns and prepare X and y\n",
        "  X_encoded = encode_categorical(data_df)\n",
        "  y = data_df['estimated_stock_pct']\n",
        "\n",
        "  # Select desired columns\n",
        "  selected_columns = ['unit_price', 'quantity', 'total']  # Add other desired columns here\n",
        "  X_selected = X_encoded[selected_columns]\n",
        "\n",
        "  # Train algorithm with cross-validation\n",
        "  train_algorithm_with_cross_validation(X_selected, y)"
      ],
      "metadata": {
        "id": "UdDlK2pKaE_T"
      },
      "execution_count": 4,
      "outputs": []
    },
    {
      "cell_type": "code",
      "source": [
        "if __name__ == \"__main__\":\n",
        "    main()"
      ],
      "metadata": {
        "colab": {
          "base_uri": "https://localhost:8080/"
        },
        "id": "9lnr9arTisbC",
        "outputId": "eb7da114-4a3b-43b7-cfcf-ee6cd40cd68b"
      },
      "execution_count": 5,
      "outputs": [
        {
          "output_type": "stream",
          "name": "stdout",
          "text": [
            "Fold 1: MAE = 0.247\n",
            "Fold 2: MAE = 0.247\n",
            "Fold 3: MAE = 0.247\n",
            "Fold 4: MAE = 0.247\n",
            "Fold 5: MAE = 0.247\n",
            "Average MAE: 0.25\n"
          ]
        }
      ]
    },
    {
      "cell_type": "markdown",
      "source": [
        "The cross-validation results consistently demonstrate a Mean Absolute Error (MAE) of approximately 0.247 for each fold, with a slight variance. This indicates that the Random Forest Regressor model is consistently predicting the estimated stock percentage with this level of accuracy. The stability of MAE across all folds suggests that the model is robust and not overfitting to the data. The average MAE of 0.25 confirms the overall predictive capability of the model. This level of performance suggests that the trained model holds promise and could potentially provide valuable insights for stock management and planning at Gala Groceries."
      ],
      "metadata": {
        "id": "IZQ-CAlriBrI"
      }
    }
  ]
}